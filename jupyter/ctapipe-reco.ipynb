{
 "cells": [
  {
   "cell_type": "code",
   "execution_count": 1,
   "metadata": {},
   "outputs": [
    {
     "name": "stderr",
     "output_type": "stream",
     "text": [
      "/data/home/zzp/miniforge3/lib/python3.10/site-packages/tqdm/auto.py:21: TqdmWarning: IProgress not found. Please update jupyter and ipywidgets. See https://ipywidgets.readthedocs.io/en/stable/user_install.html\n",
      "  from .autonotebook import tqdm as notebook_tqdm\n"
     ]
    }
   ],
   "source": [
    " import tempfile\n",
    " import timeit\n",
    " from copy import deepcopy\n",
    "\n",
    " import astropy.units as u\n",
    " import matplotlib.pyplot as plt\n",
    " import numpy as np\n",
    " from astropy.coordinates import AltAz, angular_separation\n",
    " from matplotlib.colors import ListedColormap\n",
    " from scipy.sparse.csgraph import connected_components\n",
    " from traitlets.config import Config\n",
    "\n",
    " from ctapipe.calib import CameraCalibrator\n",
    " from ctapipe.image import (\n",
    "     ImageProcessor,\n",
    "     camera_to_shower_coordinates,\n",
    "     concentration_parameters,\n",
    "     hillas_parameters,\n",
    "     leakage_parameters,\n",
    "     number_of_islands,\n",
    "     timing_parameters,\n",
    "     toymodel,\n",
    " )\n",
    " from ctapipe.image.cleaning import tailcuts_clean\n",
    " from ctapipe.io import DataWriter, EventSource, TableLoader\n",
    " from ctapipe.reco import ShowerProcessor\n",
    " from ctapipe.utils.datasets import get_dataset_path\n",
    " from ctapipe.visualization import ArrayDisplay, CameraDisplay"
   ]
  },
  {
   "cell_type": "code",
   "execution_count": 3,
   "metadata": {},
   "outputs": [
    {
     "name": "stdout",
     "output_type": "stream",
     "text": [
      "True Direction: Alt = 1.570796 rad, Az = 3.141593 rad\n",
      "Reco Direction: Alt = 1.570553 rad, Az = 5.067020 rad\n",
      "True Core: X = -13.301501 m, Y = 92.201797 m\n",
      "Reco Core: X = -13.358181 m, Y = 91.410790 m\n",
      "---\n",
      "True Direction: Alt = 1.570796 rad, Az = 3.141593 rad\n",
      "Reco Direction: Alt = 1.570651 rad, Az = 2.283632 rad\n",
      "True Core: X = 64.319771 m, Y = 147.590378 m\n",
      "Reco Core: X = 65.134346 m, Y = 149.353273 m\n",
      "---\n",
      "True Direction: Alt = 1.570796 rad, Az = 3.141593 rad\n",
      "Reco Direction: Alt = 1.570715 rad, Az = 2.304140 rad\n",
      "True Core: X = -124.684914 m, Y = 111.200752 m\n",
      "Reco Core: X = -124.746490 m, Y = 111.584049 m\n",
      "---\n",
      "True Direction: Alt = 1.570796 rad, Az = 3.141593 rad\n",
      "Reco Direction: Alt = 1.570474 rad, Az = 1.262830 rad\n",
      "True Core: X = 88.302597 m, Y = -100.900871 m\n",
      "Reco Core: X = 88.131136 m, Y = -99.914515 m\n",
      "---\n",
      "True Direction: Alt = 1.570796 rad, Az = 3.141593 rad\n",
      "Reco Direction: Alt = 1.570744 rad, Az = 2.523028 rad\n",
      "True Core: X = 140.158081 m, Y = -96.490456 m\n",
      "Reco Core: X = 140.753185 m, Y = -96.610408 m\n",
      "---\n"
     ]
    }
   ],
   "source": [
    "source = EventSource(\"simtel.zst\", max_events=5)\n",
    "calibrator = CameraCalibrator(subarray=source.subarray)\n",
    "image_processor = ImageProcessor(subarray=source.subarray)\n",
    "shower_processor = ShowerProcessor(subarray=source.subarray)\n",
    "horizon_frame = AltAz()\n",
    "\n",
    "for event in source:\n",
    "    calibrator(event)\n",
    "    image_processor(event)\n",
    "    shower_processor(event)\n",
    "\n",
    "    true_alt = event.simulation.shower.alt\n",
    "    true_az = event.simulation.shower.az\n",
    "    true_core_x = event.simulation.shower.core_x\n",
    "    true_core_y = event.simulation.shower.core_y\n",
    "\n",
    "    stereo = event.dl2.stereo.geometry[\"HillasReconstructor\"]\n",
    "    if stereo.is_valid:\n",
    "        reco_alt = stereo.alt\n",
    "        reco_az = stereo.az\n",
    "        reco_core_x = stereo.core_x\n",
    "        reco_core_y = stereo.core_y\n",
    "\n",
    "        print(f\"True Direction: Alt = {true_alt:.6f}, Az = {true_az:.6f}\")\n",
    "        print(f\"Reco Direction: Alt = {reco_alt:.6f}, Az = {reco_az:.6f}\")\n",
    "        print(f\"True Core: X = {true_core_x:.6f}, Y = {true_core_y:.6f}\")\n",
    "        print(f\"Reco Core: X = {reco_core_x:.6f}, Y = {reco_core_y:.6f}\")\n",
    "        print(\"---\")\n"
   ]
  },
  {
   "cell_type": "code",
   "execution_count": null,
   "metadata": {},
   "outputs": [],
   "source": []
  }
 ],
 "metadata": {
  "kernelspec": {
   "display_name": "base",
   "language": "python",
   "name": "python3"
  },
  "language_info": {
   "codemirror_mode": {
    "name": "ipython",
    "version": 3
   },
   "file_extension": ".py",
   "mimetype": "text/x-python",
   "name": "python",
   "nbconvert_exporter": "python",
   "pygments_lexer": "ipython3",
   "version": "3.10.14"
  }
 },
 "nbformat": 4,
 "nbformat_minor": 2
}
